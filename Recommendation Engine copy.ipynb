{
 "cells": [
  {
   "cell_type": "code",
   "execution_count": 46,
   "id": "eb9681fb",
   "metadata": {},
   "outputs": [],
   "source": [
    "# Import relevant libraries & packages\n",
    "import pandas as pd\n",
    "import numpy as np\n",
    "import matplotlib.pyplot as plt \n",
    "import seaborn as sns\n",
    "\n",
    "%matplotlib inline\n"
   ]
  },
  {
   "cell_type": "code",
   "execution_count": 47,
   "id": "f30e58bc",
   "metadata": {},
   "outputs": [],
   "source": [
    "# Read the credits csv file \n",
    "df_credits= pd.read_csv('/Users/pree/Desktop/credits.csv')\n",
    "#df_credits.head()"
   ]
  },
  {
   "cell_type": "code",
   "execution_count": 48,
   "id": "f0810a79",
   "metadata": {},
   "outputs": [],
   "source": [
    "# Read the tmdb file\n",
    "df_tmdb= pd.read_csv('/Users/pree/Desktop/tmdb_5000_movies.csv')\n",
    "#df_tmdb.head()"
   ]
  },
  {
   "cell_type": "code",
   "execution_count": 49,
   "id": "c22fb74c",
   "metadata": {},
   "outputs": [
    {
     "data": {
      "text/html": [
       "<div>\n",
       "<style scoped>\n",
       "    .dataframe tbody tr th:only-of-type {\n",
       "        vertical-align: middle;\n",
       "    }\n",
       "\n",
       "    .dataframe tbody tr th {\n",
       "        vertical-align: top;\n",
       "    }\n",
       "\n",
       "    .dataframe thead th {\n",
       "        text-align: right;\n",
       "    }\n",
       "</style>\n",
       "<table border=\"1\" class=\"dataframe\">\n",
       "  <thead>\n",
       "    <tr style=\"text-align: right;\">\n",
       "      <th></th>\n",
       "      <th>cast</th>\n",
       "      <th>crew</th>\n",
       "      <th>id</th>\n",
       "      <th>budget</th>\n",
       "      <th>genres</th>\n",
       "      <th>homepage</th>\n",
       "      <th>keywords</th>\n",
       "      <th>original_language</th>\n",
       "      <th>original_title</th>\n",
       "      <th>overview</th>\n",
       "      <th>...</th>\n",
       "      <th>production_countries</th>\n",
       "      <th>release_date</th>\n",
       "      <th>revenue</th>\n",
       "      <th>runtime</th>\n",
       "      <th>spoken_languages</th>\n",
       "      <th>status</th>\n",
       "      <th>tagline</th>\n",
       "      <th>title</th>\n",
       "      <th>vote_average</th>\n",
       "      <th>vote_count</th>\n",
       "    </tr>\n",
       "  </thead>\n",
       "  <tbody>\n",
       "    <tr>\n",
       "      <th>0</th>\n",
       "      <td>[{'cast_id': 14, 'character': 'Woody (voice)',...</td>\n",
       "      <td>[{'credit_id': '52fe4284c3a36847f8024f49', 'de...</td>\n",
       "      <td>862</td>\n",
       "      <td>30000000</td>\n",
       "      <td>[{\"id\": 16, \"name\": \"Animation\"}, {\"id\": 35, \"...</td>\n",
       "      <td>http://toystory.disney.com/toy-story</td>\n",
       "      <td>[{\"id\": 931, \"name\": \"jealousy\"}, {\"id\": 4290,...</td>\n",
       "      <td>en</td>\n",
       "      <td>Toy Story</td>\n",
       "      <td>Led by Woody, Andy's toys live happily in his ...</td>\n",
       "      <td>...</td>\n",
       "      <td>[{\"iso_3166_1\": \"US\", \"name\": \"United States o...</td>\n",
       "      <td>1995-10-30</td>\n",
       "      <td>373554033</td>\n",
       "      <td>81.0</td>\n",
       "      <td>[{\"iso_639_1\": \"en\", \"name\": \"English\"}]</td>\n",
       "      <td>Released</td>\n",
       "      <td>NaN</td>\n",
       "      <td>Toy Story</td>\n",
       "      <td>7.7</td>\n",
       "      <td>5269</td>\n",
       "    </tr>\n",
       "    <tr>\n",
       "      <th>1</th>\n",
       "      <td>[{'cast_id': 1, 'character': 'James Bond', 'cr...</td>\n",
       "      <td>[{'credit_id': '52fe426ec3a36847f801e14b', 'de...</td>\n",
       "      <td>710</td>\n",
       "      <td>58000000</td>\n",
       "      <td>[{\"id\": 12, \"name\": \"Adventure\"}, {\"id\": 28, \"...</td>\n",
       "      <td>http://www.mgm.com/view/movie/757/Goldeneye/</td>\n",
       "      <td>[{\"id\": 701, \"name\": \"cuba\"}, {\"id\": 769, \"nam...</td>\n",
       "      <td>en</td>\n",
       "      <td>GoldenEye</td>\n",
       "      <td>James Bond must unmask the mysterious head of ...</td>\n",
       "      <td>...</td>\n",
       "      <td>[{\"iso_3166_1\": \"GB\", \"name\": \"United Kingdom\"...</td>\n",
       "      <td>1995-11-16</td>\n",
       "      <td>352194034</td>\n",
       "      <td>130.0</td>\n",
       "      <td>[{\"iso_639_1\": \"en\", \"name\": \"English\"}, {\"iso...</td>\n",
       "      <td>Released</td>\n",
       "      <td>No limits. No fears. No substitutes.</td>\n",
       "      <td>GoldenEye</td>\n",
       "      <td>6.6</td>\n",
       "      <td>1174</td>\n",
       "    </tr>\n",
       "    <tr>\n",
       "      <th>2</th>\n",
       "      <td>[{'cast_id': 1, 'character': 'Andrew Shepherd'...</td>\n",
       "      <td>[{'credit_id': '52fe44dac3a36847f80adfa3', 'de...</td>\n",
       "      <td>9087</td>\n",
       "      <td>62000000</td>\n",
       "      <td>[{\"id\": 35, \"name\": \"Comedy\"}, {\"id\": 18, \"nam...</td>\n",
       "      <td>NaN</td>\n",
       "      <td>[{\"id\": 833, \"name\": \"white house\"}, {\"id\": 84...</td>\n",
       "      <td>en</td>\n",
       "      <td>The American President</td>\n",
       "      <td>Widowed U.S. president Andrew Shepherd, one of...</td>\n",
       "      <td>...</td>\n",
       "      <td>[{\"iso_3166_1\": \"US\", \"name\": \"United States o...</td>\n",
       "      <td>1995-11-17</td>\n",
       "      <td>107879496</td>\n",
       "      <td>106.0</td>\n",
       "      <td>[{\"iso_639_1\": \"en\", \"name\": \"English\"}]</td>\n",
       "      <td>Released</td>\n",
       "      <td>Why can't the most powerful man in the world h...</td>\n",
       "      <td>The American President</td>\n",
       "      <td>6.5</td>\n",
       "      <td>195</td>\n",
       "    </tr>\n",
       "    <tr>\n",
       "      <th>3</th>\n",
       "      <td>[{'cast_id': 1, 'character': 'Richard Nixon', ...</td>\n",
       "      <td>[{'credit_id': '52fe43c59251416c7501d6f3', 'de...</td>\n",
       "      <td>10858</td>\n",
       "      <td>44000000</td>\n",
       "      <td>[{\"id\": 36, \"name\": \"History\"}, {\"id\": 18, \"na...</td>\n",
       "      <td>NaN</td>\n",
       "      <td>[{\"id\": 840, \"name\": \"usa president\"}, {\"id\": ...</td>\n",
       "      <td>en</td>\n",
       "      <td>Nixon</td>\n",
       "      <td>An all-star cast powers this epic look at Amer...</td>\n",
       "      <td>...</td>\n",
       "      <td>[{\"iso_3166_1\": \"US\", \"name\": \"United States o...</td>\n",
       "      <td>1995-12-22</td>\n",
       "      <td>13681765</td>\n",
       "      <td>192.0</td>\n",
       "      <td>[{\"iso_639_1\": \"en\", \"name\": \"English\"}]</td>\n",
       "      <td>Released</td>\n",
       "      <td>Triumphant in Victory, Bitter in Defeat. He Ch...</td>\n",
       "      <td>Nixon</td>\n",
       "      <td>7.1</td>\n",
       "      <td>71</td>\n",
       "    </tr>\n",
       "    <tr>\n",
       "      <th>4</th>\n",
       "      <td>[{'cast_id': 1, 'character': 'Morgan Adams', '...</td>\n",
       "      <td>[{'credit_id': '52fe42f4c3a36847f802f69f', 'de...</td>\n",
       "      <td>1408</td>\n",
       "      <td>98000000</td>\n",
       "      <td>[{\"id\": 28, \"name\": \"Action\"}, {\"id\": 12, \"nam...</td>\n",
       "      <td>NaN</td>\n",
       "      <td>[{\"id\": 911, \"name\": \"exotic island\"}, {\"id\": ...</td>\n",
       "      <td>en</td>\n",
       "      <td>Cutthroat Island</td>\n",
       "      <td>Morgan Adams and her slave, William Shaw, are ...</td>\n",
       "      <td>...</td>\n",
       "      <td>[{\"iso_3166_1\": \"FR\", \"name\": \"France\"}, {\"iso...</td>\n",
       "      <td>1995-12-22</td>\n",
       "      <td>10017322</td>\n",
       "      <td>119.0</td>\n",
       "      <td>[{\"iso_639_1\": \"en\", \"name\": \"English\"}, {\"iso...</td>\n",
       "      <td>Released</td>\n",
       "      <td>The Course Has Been Set. There Is No Turning B...</td>\n",
       "      <td>Cutthroat Island</td>\n",
       "      <td>5.7</td>\n",
       "      <td>136</td>\n",
       "    </tr>\n",
       "  </tbody>\n",
       "</table>\n",
       "<p>5 rows × 22 columns</p>\n",
       "</div>"
      ],
      "text/plain": [
       "                                                cast  \\\n",
       "0  [{'cast_id': 14, 'character': 'Woody (voice)',...   \n",
       "1  [{'cast_id': 1, 'character': 'James Bond', 'cr...   \n",
       "2  [{'cast_id': 1, 'character': 'Andrew Shepherd'...   \n",
       "3  [{'cast_id': 1, 'character': 'Richard Nixon', ...   \n",
       "4  [{'cast_id': 1, 'character': 'Morgan Adams', '...   \n",
       "\n",
       "                                                crew     id    budget  \\\n",
       "0  [{'credit_id': '52fe4284c3a36847f8024f49', 'de...    862  30000000   \n",
       "1  [{'credit_id': '52fe426ec3a36847f801e14b', 'de...    710  58000000   \n",
       "2  [{'credit_id': '52fe44dac3a36847f80adfa3', 'de...   9087  62000000   \n",
       "3  [{'credit_id': '52fe43c59251416c7501d6f3', 'de...  10858  44000000   \n",
       "4  [{'credit_id': '52fe42f4c3a36847f802f69f', 'de...   1408  98000000   \n",
       "\n",
       "                                              genres  \\\n",
       "0  [{\"id\": 16, \"name\": \"Animation\"}, {\"id\": 35, \"...   \n",
       "1  [{\"id\": 12, \"name\": \"Adventure\"}, {\"id\": 28, \"...   \n",
       "2  [{\"id\": 35, \"name\": \"Comedy\"}, {\"id\": 18, \"nam...   \n",
       "3  [{\"id\": 36, \"name\": \"History\"}, {\"id\": 18, \"na...   \n",
       "4  [{\"id\": 28, \"name\": \"Action\"}, {\"id\": 12, \"nam...   \n",
       "\n",
       "                                       homepage  \\\n",
       "0          http://toystory.disney.com/toy-story   \n",
       "1  http://www.mgm.com/view/movie/757/Goldeneye/   \n",
       "2                                           NaN   \n",
       "3                                           NaN   \n",
       "4                                           NaN   \n",
       "\n",
       "                                            keywords original_language  \\\n",
       "0  [{\"id\": 931, \"name\": \"jealousy\"}, {\"id\": 4290,...                en   \n",
       "1  [{\"id\": 701, \"name\": \"cuba\"}, {\"id\": 769, \"nam...                en   \n",
       "2  [{\"id\": 833, \"name\": \"white house\"}, {\"id\": 84...                en   \n",
       "3  [{\"id\": 840, \"name\": \"usa president\"}, {\"id\": ...                en   \n",
       "4  [{\"id\": 911, \"name\": \"exotic island\"}, {\"id\": ...                en   \n",
       "\n",
       "           original_title                                           overview  \\\n",
       "0               Toy Story  Led by Woody, Andy's toys live happily in his ...   \n",
       "1               GoldenEye  James Bond must unmask the mysterious head of ...   \n",
       "2  The American President  Widowed U.S. president Andrew Shepherd, one of...   \n",
       "3                   Nixon  An all-star cast powers this epic look at Amer...   \n",
       "4        Cutthroat Island  Morgan Adams and her slave, William Shaw, are ...   \n",
       "\n",
       "   ...                               production_countries release_date  \\\n",
       "0  ...  [{\"iso_3166_1\": \"US\", \"name\": \"United States o...   1995-10-30   \n",
       "1  ...  [{\"iso_3166_1\": \"GB\", \"name\": \"United Kingdom\"...   1995-11-16   \n",
       "2  ...  [{\"iso_3166_1\": \"US\", \"name\": \"United States o...   1995-11-17   \n",
       "3  ...  [{\"iso_3166_1\": \"US\", \"name\": \"United States o...   1995-12-22   \n",
       "4  ...  [{\"iso_3166_1\": \"FR\", \"name\": \"France\"}, {\"iso...   1995-12-22   \n",
       "\n",
       "     revenue runtime                                   spoken_languages  \\\n",
       "0  373554033    81.0           [{\"iso_639_1\": \"en\", \"name\": \"English\"}]   \n",
       "1  352194034   130.0  [{\"iso_639_1\": \"en\", \"name\": \"English\"}, {\"iso...   \n",
       "2  107879496   106.0           [{\"iso_639_1\": \"en\", \"name\": \"English\"}]   \n",
       "3   13681765   192.0           [{\"iso_639_1\": \"en\", \"name\": \"English\"}]   \n",
       "4   10017322   119.0  [{\"iso_639_1\": \"en\", \"name\": \"English\"}, {\"iso...   \n",
       "\n",
       "     status                                            tagline  \\\n",
       "0  Released                                                NaN   \n",
       "1  Released               No limits. No fears. No substitutes.   \n",
       "2  Released  Why can't the most powerful man in the world h...   \n",
       "3  Released  Triumphant in Victory, Bitter in Defeat. He Ch...   \n",
       "4  Released  The Course Has Been Set. There Is No Turning B...   \n",
       "\n",
       "                    title vote_average vote_count  \n",
       "0               Toy Story          7.7       5269  \n",
       "1               GoldenEye          6.6       1174  \n",
       "2  The American President          6.5        195  \n",
       "3                   Nixon          7.1         71  \n",
       "4        Cutthroat Island          5.7        136  \n",
       "\n",
       "[5 rows x 22 columns]"
      ]
     },
     "execution_count": 49,
     "metadata": {},
     "output_type": "execute_result"
    }
   ],
   "source": [
    "# Merge the two tables on id column and make id the index\n",
    "df = pd.merge(df_credits, df_tmdb, on= 'id')\n",
    "df.head()"
   ]
  },
  {
   "cell_type": "code",
   "execution_count": 50,
   "id": "8f1da9a6",
   "metadata": {},
   "outputs": [
    {
     "data": {
      "text/plain": [
       "(4599, 22)"
      ]
     },
     "execution_count": 50,
     "metadata": {},
     "output_type": "execute_result"
    }
   ],
   "source": [
    "df.shape"
   ]
  },
  {
   "cell_type": "markdown",
   "id": "0520e218",
   "metadata": {},
   "source": [
    "# 1. Demographic filtering \n",
    "For this we need:\n",
    "\n",
    "    1. To rate the movie\n",
    "    2. calculate the score for each movie \n",
    "    3. Sort the ratings and recommend movies that are best rated to the users\n",
    "\n",
    "    \n",
    "We have two columns called 'vote_average' & 'vote_count', but as is seen for some movies we have more count than the others. Hence we need a more weighted rating than the existing one. This is becasue a movie that has a rating of 8 and 500 votes is not more popular than movie that is 6.6 with 10000 votes.\n",
    "\n",
    "Therfeore we will use the imdb's weighted average rating, whuch gies as below:\n",
    "\n",
    "**weighted rating (𝑊𝑅)=(𝑣/(𝑣+𝑚))𝑅+(𝑚/(𝑣+𝑚))𝐶**\n",
    "\n",
    "\n",
    "where:\n",
    "𝑅 = average for the movie (mean) = (Rating)\n",
    "𝑣 = number of votes for the movie = (votes)\n",
    "𝑚 = minimum votes required to be listed in the Top 50 (currently 1000)\n",
    "𝐶 = the mean vote across the whole report (currently 6.8)\n",
    "\n",
    "We already have v(vote_count) and R (vote_average), m = 1000 and C = 6.8\n"
   ]
  },
  {
   "cell_type": "code",
   "execution_count": 51,
   "id": "c16d7c9e",
   "metadata": {},
   "outputs": [
    {
     "data": {
      "text/plain": [
       "(924, 22)"
      ]
     },
     "execution_count": 51,
     "metadata": {},
     "output_type": "execute_result"
    }
   ],
   "source": [
    "#Lets check the shape of the dataframe after adding the qualification criterion\n",
    "m = 1000\n",
    "C = 6.8\n",
    "\n",
    "qual_movies = df.copy().loc[df['vote_count'] >= m]\n",
    "qual_movies.shape"
   ]
  },
  {
   "cell_type": "markdown",
   "id": "82496d58",
   "metadata": {},
   "source": []
  },
  {
   "cell_type": "markdown",
   "id": "be79e184",
   "metadata": {},
   "source": [
    "So we now have a total of 924 movies that qualify to be on the list of recommendation. We will now calculate the weighted average metric for each movie by defining a function called weighted_rating"
   ]
  },
  {
   "cell_type": "code",
   "execution_count": 52,
   "id": "f276435b",
   "metadata": {},
   "outputs": [],
   "source": [
    "def weighted_rating(x, m = m, C=C):\n",
    "    v = x['vote_count']\n",
    "    R = x['vote_average']\n",
    "    \n",
    "    # Calculation based on the IMDB formula\n",
    "    return (v/(v+m) * R)+(m/(v+m) * C)"
   ]
  },
  {
   "cell_type": "code",
   "execution_count": 53,
   "id": "d56a4ddd",
   "metadata": {},
   "outputs": [],
   "source": [
    "# Define a new feature 'score' and calculate its value with `weighted_rating()\n",
    "qual_movies['score'] = qual_movies.apply(weighted_rating, axis=1)"
   ]
  },
  {
   "cell_type": "code",
   "execution_count": 54,
   "id": "c32191a3",
   "metadata": {},
   "outputs": [
    {
     "data": {
      "text/html": [
       "<div>\n",
       "<style scoped>\n",
       "    .dataframe tbody tr th:only-of-type {\n",
       "        vertical-align: middle;\n",
       "    }\n",
       "\n",
       "    .dataframe tbody tr th {\n",
       "        vertical-align: top;\n",
       "    }\n",
       "\n",
       "    .dataframe thead th {\n",
       "        text-align: right;\n",
       "    }\n",
       "</style>\n",
       "<table border=\"1\" class=\"dataframe\">\n",
       "  <thead>\n",
       "    <tr style=\"text-align: right;\">\n",
       "      <th></th>\n",
       "      <th>title</th>\n",
       "      <th>release_date</th>\n",
       "      <th>vote_count</th>\n",
       "      <th>vote_average</th>\n",
       "      <th>score</th>\n",
       "    </tr>\n",
       "  </thead>\n",
       "  <tbody>\n",
       "    <tr>\n",
       "      <th>89</th>\n",
       "      <td>The Shawshank Redemption</td>\n",
       "      <td>1994-09-23</td>\n",
       "      <td>8205</td>\n",
       "      <td>8.5</td>\n",
       "      <td>8.315318</td>\n",
       "    </tr>\n",
       "    <tr>\n",
       "      <th>210</th>\n",
       "      <td>The Godfather</td>\n",
       "      <td>1972-03-14</td>\n",
       "      <td>5893</td>\n",
       "      <td>8.4</td>\n",
       "      <td>8.167880</td>\n",
       "    </tr>\n",
       "    <tr>\n",
       "      <th>862</th>\n",
       "      <td>Fight Club</td>\n",
       "      <td>1999-10-15</td>\n",
       "      <td>9413</td>\n",
       "      <td>8.3</td>\n",
       "      <td>8.155949</td>\n",
       "    </tr>\n",
       "    <tr>\n",
       "      <th>85</th>\n",
       "      <td>Pulp Fiction</td>\n",
       "      <td>1994-10-08</td>\n",
       "      <td>8428</td>\n",
       "      <td>8.3</td>\n",
       "      <td>8.140899</td>\n",
       "    </tr>\n",
       "    <tr>\n",
       "      <th>2762</th>\n",
       "      <td>The Dark Knight</td>\n",
       "      <td>2008-07-16</td>\n",
       "      <td>12002</td>\n",
       "      <td>8.2</td>\n",
       "      <td>8.092324</td>\n",
       "    </tr>\n",
       "    <tr>\n",
       "      <th>103</th>\n",
       "      <td>Forrest Gump</td>\n",
       "      <td>1994-07-06</td>\n",
       "      <td>7927</td>\n",
       "      <td>8.2</td>\n",
       "      <td>8.043172</td>\n",
       "    </tr>\n",
       "    <tr>\n",
       "      <th>143</th>\n",
       "      <td>Schindler's List</td>\n",
       "      <td>1993-11-29</td>\n",
       "      <td>4329</td>\n",
       "      <td>8.3</td>\n",
       "      <td>8.018521</td>\n",
       "    </tr>\n",
       "    <tr>\n",
       "      <th>4059</th>\n",
       "      <td>Whiplash</td>\n",
       "      <td>2014-10-10</td>\n",
       "      <td>4254</td>\n",
       "      <td>8.3</td>\n",
       "      <td>8.014503</td>\n",
       "    </tr>\n",
       "    <tr>\n",
       "      <th>3236</th>\n",
       "      <td>Inception</td>\n",
       "      <td>2010-07-14</td>\n",
       "      <td>13752</td>\n",
       "      <td>8.1</td>\n",
       "      <td>8.011876</td>\n",
       "    </tr>\n",
       "    <tr>\n",
       "      <th>281</th>\n",
       "      <td>The Empire Strikes Back</td>\n",
       "      <td>1980-05-17</td>\n",
       "      <td>5879</td>\n",
       "      <td>8.2</td>\n",
       "      <td>7.996482</td>\n",
       "    </tr>\n",
       "  </tbody>\n",
       "</table>\n",
       "</div>"
      ],
      "text/plain": [
       "                         title release_date  vote_count  vote_average  \\\n",
       "89    The Shawshank Redemption   1994-09-23        8205           8.5   \n",
       "210              The Godfather   1972-03-14        5893           8.4   \n",
       "862                 Fight Club   1999-10-15        9413           8.3   \n",
       "85                Pulp Fiction   1994-10-08        8428           8.3   \n",
       "2762           The Dark Knight   2008-07-16       12002           8.2   \n",
       "103               Forrest Gump   1994-07-06        7927           8.2   \n",
       "143           Schindler's List   1993-11-29        4329           8.3   \n",
       "4059                  Whiplash   2014-10-10        4254           8.3   \n",
       "3236                 Inception   2010-07-14       13752           8.1   \n",
       "281    The Empire Strikes Back   1980-05-17        5879           8.2   \n",
       "\n",
       "         score  \n",
       "89    8.315318  \n",
       "210   8.167880  \n",
       "862   8.155949  \n",
       "85    8.140899  \n",
       "2762  8.092324  \n",
       "103   8.043172  \n",
       "143   8.018521  \n",
       "4059  8.014503  \n",
       "3236  8.011876  \n",
       "281   7.996482  "
      ]
     },
     "execution_count": 54,
     "metadata": {},
     "output_type": "execute_result"
    }
   ],
   "source": [
    "#Sort movies based on score calculated above\n",
    "qual_movies = qual_movies.sort_values('score', ascending=False)\n",
    "\n",
    "#Print the top 10 movies\n",
    "qual_movies[['title', 'release_date', 'vote_count', 'vote_average', 'score']].head(10)"
   ]
  },
  {
   "cell_type": "markdown",
   "id": "d2acd3a7",
   "metadata": {},
   "source": [
    "# Voila! Our very first basic recommender system is now in place\n",
    "\n",
    "Under the **Trending Now** tab of these systems we find movies that are very popular and they can just be obtained by sorting the dataset by the popularity column."
   ]
  },
  {
   "cell_type": "code",
   "execution_count": 55,
   "id": "2bff0142",
   "metadata": {},
   "outputs": [
    {
     "data": {
      "text/plain": [
       "Text(0.5, 1.0, 'Popular Movies')"
      ]
     },
     "execution_count": 55,
     "metadata": {},
     "output_type": "execute_result"
    },
    {
     "data": {
      "image/png": "[encoded data removed]",
      "text/plain": [
       "<Figure size 1200x400 with 1 Axes>"
      ]
     },
     "metadata": {},
     "output_type": "display_data"
    }
   ],
   "source": [
    "#Getting the popular movies from the dataframe\n",
    "pop = df.sort_values('popularity', ascending=False)\n",
    "plt.figure(figsize=(12,4))\n",
    "\n",
    "plt.barh(pop['title'].head(10), pop['popularity'].head(10), align='center', color= 'orange')\n",
    "plt.gca().invert_yaxis()\n",
    "plt.xlabel('Popularity')\n",
    "plt.title('Popular Movies')"
   ]
  },
  {
   "cell_type": "markdown",
   "id": "4895cf6a",
   "metadata": {},
   "source": [
    "Now something to keep in mind is that these demographic recommenders provide a general chart of recommended movies to all the users. They are not sensitive to the interests and tastes of a particular user. This is when we move on to a more refined system- **Content Based Filtering**."
   ]
  },
  {
   "cell_type": "markdown",
   "id": "1cd0e45c",
   "metadata": {},
   "source": [
    "# 2. Content based filtering\n"
   ]
  },
  {
   "cell_type": "markdown",
   "id": "552a7a0f",
   "metadata": {},
   "source": [
    "In this recommender system the content of the movie (overview, cast, crew, keyword, tagline etc) is used to find its similarity with other movies. Then the movies that are most likely to be similar are recommended.\n",
    "\n",
    "Plot description based Recommender:\n",
    "We will compute pairwise similarity scores for all movies based on their plot descriptions and recommend movies based on that similarity score. The plot description is given in the overview feature of our dataset. Let's take a look at the data. .."
   ]
  },
  {
   "cell_type": "code",
   "execution_count": 56,
   "id": "1c6fbda1",
   "metadata": {},
   "outputs": [
    {
     "data": {
      "text/plain": [
       "0    Led by Woody, Andy's toys live happily in his ...\n",
       "1    James Bond must unmask the mysterious head of ...\n",
       "2    Widowed U.S. president Andrew Shepherd, one of...\n",
       "3    An all-star cast powers this epic look at Amer...\n",
       "4    Morgan Adams and her slave, William Shaw, are ...\n",
       "Name: overview, dtype: object"
      ]
     },
     "execution_count": 56,
     "metadata": {},
     "output_type": "execute_result"
    }
   ],
   "source": [
    "# First five rows of our 'overview' column\n",
    "df['overview'].head()"
   ]
  },
  {
   "cell_type": "markdown",
   "id": "f3d7ef98",
   "metadata": {},
   "source": [
    "In order to proceed further, we will need to convert the words of the documents (each movie) into vectors. We will achieve this by using the Tf-idf library. We will calculate the term frequency- inverse document frequency, whereby each movie title will form each document and then each word therein will be the word, for which we will calculate the term frequency.\n",
    "\n",
    "Now if you are wondering what is term frequency , it is the relative frequency of a word in a document and is given as (term instances/total instances). Inverse Document Frequency is the relative count of documents containing the term is given as log(number of documents/documents with term) The overall importance of each word to the documents in which they appear is equal to TF * IDF\n",
    "\n",
    "This will give us a matrix where each column represents a word in the overview vocabulary (all the words that appear in at least one document) and each row represents a movie, as before.We will also drop the frequently used stop words in Enlish like the /a / is/ this/ that etc This is done to reduce the importance of words that occur frequently in plot overviews and therefore, their significance in computing the final similarity score.\n",
    "\n",
    "To accomplish this we will use scikit-learn that gives us a built-in TfIdfVectorizer class that produces the TF-IDF matrix in a couple of lines."
   ]
  },
  {
   "cell_type": "code",
   "execution_count": 57,
   "id": "02fd7151",
   "metadata": {},
   "outputs": [
    {
     "data": {
      "text/plain": [
       "(4599, 20322)"
      ]
     },
     "execution_count": 57,
     "metadata": {},
     "output_type": "execute_result"
    }
   ],
   "source": [
    "#Import TfIdfVectorizer from scikit-learn\n",
    "from sklearn.feature_extraction.text import TfidfVectorizer\n",
    "\n",
    "#Initiate a TF-IDF Vectorizer Object. Remove all english stop words such as 'the', 'a'\n",
    "tfidf = TfidfVectorizer(stop_words='english')\n",
    "\n",
    "#Replace NaN with an empty string\n",
    "df['overview'] = df['overview'].fillna('')\n",
    "\n",
    "#Construct the required TF-IDF matrix by fitting and transforming the data\n",
    "tfidf_matrix = tfidf.fit_transform(df['overview'])\n",
    "\n",
    "#Output the shape of tfidf_matrix\n",
    "tfidf_matrix.shape"
   ]
  },
  {
   "cell_type": "markdown",
   "id": "0a71ffb6",
   "metadata": {},
   "source": [
    "We see that over 20,000 different words were used to describe the 4599 movies in our dataset.\n",
    "\n",
    "With this matrix in hand, we can now compute a similarity score. There are several methods for this; such as the euclidean, the Pearson and the cosine similarity scores. There is no right answer to which score is the best. Different scores work well in different scenarios and it is often a good idea to experiment with different metrics.\n",
    "\n",
    "We will be using the cosine similarity to calculate a numeric quantity that denotes the similarity between two movies. We use the cosine similarity score since it is independent of magnitude and is relatively easy and fast to calculate. Mathematically, it is defined as follows:\n",
    "\n",
    "Cos(x, y) = x . y / ||x|| * ||y||\n",
    "\n",
    "Since we have used the TF-IDF vectorizer, calculating the dot product will directly give us the cosine similarity score. Therefore, we will use sklearn's linear_kernel() instead of cosine_similarities() since it is faster."
   ]
  },
  {
   "cell_type": "markdown",
   "id": "ea824db7",
   "metadata": {},
   "source": []
  },
  {
   "cell_type": "code",
   "execution_count": 58,
   "id": "8f24e8f4",
   "metadata": {},
   "outputs": [],
   "source": [
    "# Import linear_kernel\n",
    "from sklearn.metrics.pairwise import linear_kernel\n",
    "\n",
    "# Compute the cosine similarity matrix\n",
    "cosine_sim = linear_kernel(tfidf_matrix, tfidf_matrix)"
   ]
  },
  {
   "cell_type": "markdown",
   "id": "9664f73d",
   "metadata": {},
   "source": [
    "We are going to define a function that takes in a movie title as an input and outputs a list of the 10 most similar movies. Firstly, for this, we need a reverse mapping of movie titles and DataFrame indices. In other words, we need a mechanism to identify the index of a movie in our metadata DataFrame, given its title."
   ]
  },
  {
   "cell_type": "code",
   "execution_count": 59,
   "id": "425341a9",
   "metadata": {},
   "outputs": [],
   "source": [
    "#Construct a reverse map of indices and movie titles\n",
    "\n",
    "indices = pd.Series(df.index, index = df['title']).drop_duplicates()"
   ]
  },
  {
   "cell_type": "markdown",
   "id": "56ac02d5",
   "metadata": {},
   "source": [
    "We are now in a good position to define our recommendation function. These are the following steps we'll follow :\n",
    "\n",
    "* Get the index of the movie given its title.\n",
    "* Get the list of cosine similarity scores for that particular movie with all movies. Convert it into a list of tuples where the first element is its position and the second is the similarity score.\n",
    "* Sort the aforementioned list of tuples based on the similarity scores; that is, the second element.\n",
    "* Get the top 10 elements of this list. Ignore the first element as it refers to self (the movie most similar to a particular movie is the movie itself).\n",
    "* Return the titles corresponding to the indices of the top elements."
   ]
  },
  {
   "cell_type": "code",
   "execution_count": 60,
   "id": "cda22a55",
   "metadata": {},
   "outputs": [],
   "source": [
    "# Function that takes in movie title as input and outputs most similar movies\n",
    "\n",
    "def get_recommendations(title, cosine_sim = cosine_sim):\n",
    "    # Get the index of the movie that matches the title\n",
    "    index = indices[title]\n",
    "    \n",
    "    # Get the pairwsie similarity scores of all movies with that movie\n",
    "    sim_scores = list(enumerate(cosine_sim[index]))\n",
    "    \n",
    "    # Sort the movies based on the similarity scores\n",
    "    sim_scores = sorted(sim_scores, key=lambda x: x[1], reverse=True)\n",
    "    \n",
    "    # Get the scores of the 10 most similar movies, dont take [0] as its self\n",
    "    sim_scores = sim_scores[1:11]\n",
    "    \n",
    "    # Get the movie indices\n",
    "    movie_indices = [i[0] for i in sim_scores]\n",
    "    \n",
    "    # Return the top 10 most similar movies\n",
    "    return df['title'].iloc[movie_indices]"
   ]
  },
  {
   "cell_type": "code",
   "execution_count": 61,
   "id": "e9caa083",
   "metadata": {},
   "outputs": [
    {
     "data": {
      "text/plain": [
       "3558                      The Dark Knight Rises\n",
       "2193                              Batman Begins\n",
       "2762                            The Dark Knight\n",
       "352                              Batman Returns\n",
       "393                              Batman & Robin\n",
       "3786    Batman: The Dark Knight Returns, Part 2\n",
       "157                                      Batman\n",
       "2236                                   Cry_Wolf\n",
       "2807                        The Incredible Hulk\n",
       "4357         Batman v Superman: Dawn of Justice\n",
       "Name: title, dtype: object"
      ]
     },
     "execution_count": 61,
     "metadata": {},
     "output_type": "execute_result"
    }
   ],
   "source": [
    "get_recommendations('Batman Forever')"
   ]
  },
  {
   "cell_type": "code",
   "execution_count": 62,
   "id": "cfa8b140",
   "metadata": {},
   "outputs": [
    {
     "data": {
      "text/plain": [
       "3222               Toy Story 3\n",
       "906                Toy Story 2\n",
       "2224    The 40 Year Old Virgin\n",
       "2496    For Your Consideration\n",
       "921            Man on the Moon\n",
       "1611             Class of 1984\n",
       "2548              Factory Girl\n",
       "1576                Heartbeeps\n",
       "1210                 Losin' It\n",
       "2292               Match Point\n",
       "Name: title, dtype: object"
      ]
     },
     "execution_count": 62,
     "metadata": {},
     "output_type": "execute_result"
    }
   ],
   "source": [
    "get_recommendations('Toy Story')"
   ]
  },
  {
   "cell_type": "code",
   "execution_count": 63,
   "id": "94c726bf",
   "metadata": {},
   "outputs": [
    {
     "data": {
      "text/plain": [
       "974                                   Raise the Titanic\n",
       "1579                                         Ghost Ship\n",
       "3049                         I Can Do Bad All By Myself\n",
       "406                                       Event Horizon\n",
       "852                                             Niagara\n",
       "1774                                           The Rose\n",
       "3134                                           Triangle\n",
       "2158                        The Ballad of Jack and Rose\n",
       "2387                                           Poseidon\n",
       "1813    Master and Commander: The Far Side of the World\n",
       "Name: title, dtype: object"
      ]
     },
     "execution_count": 63,
     "metadata": {},
     "output_type": "execute_result"
    }
   ],
   "source": [
    "get_recommendations('Titanic')"
   ]
  },
  {
   "cell_type": "markdown",
   "id": "45f17ae9",
   "metadata": {},
   "source": [
    "While our system has done a decent job of finding movies with similar plot descriptions, the quality of recommendations is not that great. \"Titanic\" returns all movies with water, ship, Rose and Jack. While it is more likely that the people who liked that movie are more inclined to enjoy other romantic movies. This is something that cannot be captured by the present system."
   ]
  },
  {
   "cell_type": "markdown",
   "id": "66820243",
   "metadata": {},
   "source": [
    "# Credits, Genres and Keywords Based Recommender"
   ]
  },
  {
   "cell_type": "markdown",
   "id": "dcde3567",
   "metadata": {},
   "source": [
    "It goes without saying that the quality of our recommender would be increased with the usage of better metadata. That is exactly what we are going to do in this section. We are going to build a recommender based on the following metadata: the 3 top actors, the director, related genres and the movie plot keywords.\n",
    "\n",
    "From the cast, crew and keywords features, we need to extract the three most important actors, the director and the keywords associated with that movie. Right now, our data is present in the form of \"stringified\" lists , we need to convert it into a safe and usable structure"
   ]
  },
  {
   "cell_type": "code",
   "execution_count": 69,
   "id": "417cdef8",
   "metadata": {},
   "outputs": [
    {
     "data": {
      "text/plain": [
       "0    [{'credit_id': '52fe4284c3a36847f8024f49', 'de...\n",
       "Name: crew, dtype: object"
      ]
     },
     "execution_count": 69,
     "metadata": {},
     "output_type": "execute_result"
    }
   ],
   "source": [
    "#Let's see how the data looks for crew of our first movie in the list (doesnt give us much info)\n",
    "df.loc[df['title'] == 'Toy Story']['crew']"
   ]
  },
  {
   "cell_type": "code",
   "execution_count": 74,
   "id": "2ef233c5",
   "metadata": {},
   "outputs": [],
   "source": [
    "#In order to know the contents of the 'crew' column, we use the below on our first movie\n",
    "\n",
    "#pd.json_normalize(df.crew[0])"
   ]
  },
  {
   "cell_type": "code",
   "execution_count": 75,
   "id": "7f3c9d33",
   "metadata": {},
   "outputs": [],
   "source": [
    "# Parse the stringified features into their corresponding python objects\n",
    "from ast import literal_eval\n",
    "\n",
    "features = ['cast', 'crew', 'keywords', 'genres']\n",
    "for feature in features:\n",
    "    df[feature] = df[feature].apply(literal_eval)\n",
    "    "
   ]
  },
  {
   "cell_type": "markdown",
   "id": "3cde3bb7",
   "metadata": {},
   "source": [
    "Next, we'll write functions that will help us to extract the required information from each feature."
   ]
  },
  {
   "cell_type": "code",
   "execution_count": 76,
   "id": "9547f029",
   "metadata": {},
   "outputs": [],
   "source": [
    "# Get the director's name from the crew feature. If director is not listed, return NaN\n",
    "\n",
    "def get_director(x):\n",
    "    for i in x:\n",
    "        if i['job'] == 'Director':\n",
    "            return i['name']\n",
    "    return np.nan\n"
   ]
  },
  {
   "cell_type": "code",
   "execution_count": 77,
   "id": "87ddd9b7",
   "metadata": {},
   "outputs": [
    {
     "data": {
      "text/html": [
       "<div>\n",
       "<style scoped>\n",
       "    .dataframe tbody tr th:only-of-type {\n",
       "        vertical-align: middle;\n",
       "    }\n",
       "\n",
       "    .dataframe tbody tr th {\n",
       "        vertical-align: top;\n",
       "    }\n",
       "\n",
       "    .dataframe thead th {\n",
       "        text-align: right;\n",
       "    }\n",
       "</style>\n",
       "<table border=\"1\" class=\"dataframe\">\n",
       "  <thead>\n",
       "    <tr style=\"text-align: right;\">\n",
       "      <th></th>\n",
       "      <th>cast_id</th>\n",
       "      <th>character</th>\n",
       "      <th>credit_id</th>\n",
       "      <th>gender</th>\n",
       "      <th>id</th>\n",
       "      <th>name</th>\n",
       "      <th>order</th>\n",
       "      <th>profile_path</th>\n",
       "    </tr>\n",
       "  </thead>\n",
       "  <tbody>\n",
       "    <tr>\n",
       "      <th>0</th>\n",
       "      <td>14</td>\n",
       "      <td>Woody (voice)</td>\n",
       "      <td>52fe4284c3a36847f8024f95</td>\n",
       "      <td>2</td>\n",
       "      <td>31</td>\n",
       "      <td>Tom Hanks</td>\n",
       "      <td>0</td>\n",
       "      <td>/pQFoyx7rp09CJTAb932F2g8Nlho.jpg</td>\n",
       "    </tr>\n",
       "    <tr>\n",
       "      <th>1</th>\n",
       "      <td>15</td>\n",
       "      <td>Buzz Lightyear (voice)</td>\n",
       "      <td>52fe4284c3a36847f8024f99</td>\n",
       "      <td>2</td>\n",
       "      <td>12898</td>\n",
       "      <td>Tim Allen</td>\n",
       "      <td>1</td>\n",
       "      <td>/uX2xVf6pMmPepxnvFWyBtjexzgY.jpg</td>\n",
       "    </tr>\n",
       "    <tr>\n",
       "      <th>2</th>\n",
       "      <td>16</td>\n",
       "      <td>Mr. Potato Head (voice)</td>\n",
       "      <td>52fe4284c3a36847f8024f9d</td>\n",
       "      <td>2</td>\n",
       "      <td>7167</td>\n",
       "      <td>Don Rickles</td>\n",
       "      <td>2</td>\n",
       "      <td>/h5BcaDMPRVLHLDzbQavec4xfSdt.jpg</td>\n",
       "    </tr>\n",
       "    <tr>\n",
       "      <th>3</th>\n",
       "      <td>17</td>\n",
       "      <td>Slinky Dog (voice)</td>\n",
       "      <td>52fe4284c3a36847f8024fa1</td>\n",
       "      <td>2</td>\n",
       "      <td>12899</td>\n",
       "      <td>Jim Varney</td>\n",
       "      <td>3</td>\n",
       "      <td>/eIo2jVVXYgjDtaHoF19Ll9vtW7h.jpg</td>\n",
       "    </tr>\n",
       "    <tr>\n",
       "      <th>4</th>\n",
       "      <td>18</td>\n",
       "      <td>Rex (voice)</td>\n",
       "      <td>52fe4284c3a36847f8024fa5</td>\n",
       "      <td>2</td>\n",
       "      <td>12900</td>\n",
       "      <td>Wallace Shawn</td>\n",
       "      <td>4</td>\n",
       "      <td>/oGE6JqPP2xH4tNORKNqxbNPYi7u.jpg</td>\n",
       "    </tr>\n",
       "    <tr>\n",
       "      <th>5</th>\n",
       "      <td>19</td>\n",
       "      <td>Hamm (voice)</td>\n",
       "      <td>52fe4284c3a36847f8024fa9</td>\n",
       "      <td>2</td>\n",
       "      <td>7907</td>\n",
       "      <td>John Ratzenberger</td>\n",
       "      <td>5</td>\n",
       "      <td>/yGechiKWL6TJDfVE2KPSJYqdMsY.jpg</td>\n",
       "    </tr>\n",
       "    <tr>\n",
       "      <th>6</th>\n",
       "      <td>20</td>\n",
       "      <td>Bo Peep (voice)</td>\n",
       "      <td>52fe4284c3a36847f8024fad</td>\n",
       "      <td>1</td>\n",
       "      <td>8873</td>\n",
       "      <td>Annie Potts</td>\n",
       "      <td>6</td>\n",
       "      <td>/eryXT84RL41jHSJcMy4kS3u9y6w.jpg</td>\n",
       "    </tr>\n",
       "    <tr>\n",
       "      <th>7</th>\n",
       "      <td>26</td>\n",
       "      <td>Andy (voice)</td>\n",
       "      <td>52fe4284c3a36847f8024fc1</td>\n",
       "      <td>0</td>\n",
       "      <td>1116442</td>\n",
       "      <td>John Morris</td>\n",
       "      <td>7</td>\n",
       "      <td>/vYGyvK4LzeaUCoNSHtsuqJUY15M.jpg</td>\n",
       "    </tr>\n",
       "    <tr>\n",
       "      <th>8</th>\n",
       "      <td>22</td>\n",
       "      <td>Sid (voice)</td>\n",
       "      <td>52fe4284c3a36847f8024fb1</td>\n",
       "      <td>2</td>\n",
       "      <td>12901</td>\n",
       "      <td>Erik von Detten</td>\n",
       "      <td>8</td>\n",
       "      <td>/twnF1ZaJ1FUNUuo6xLXwcxjayBE.jpg</td>\n",
       "    </tr>\n",
       "    <tr>\n",
       "      <th>9</th>\n",
       "      <td>23</td>\n",
       "      <td>Mrs. Davis (voice)</td>\n",
       "      <td>52fe4284c3a36847f8024fb5</td>\n",
       "      <td>1</td>\n",
       "      <td>12133</td>\n",
       "      <td>Laurie Metcalf</td>\n",
       "      <td>9</td>\n",
       "      <td>/unMMIT60eoBM2sN2nyR7EZ2BvvD.jpg</td>\n",
       "    </tr>\n",
       "    <tr>\n",
       "      <th>10</th>\n",
       "      <td>24</td>\n",
       "      <td>Sergeant (voice)</td>\n",
       "      <td>52fe4284c3a36847f8024fb9</td>\n",
       "      <td>2</td>\n",
       "      <td>8655</td>\n",
       "      <td>R. Lee Ermey</td>\n",
       "      <td>10</td>\n",
       "      <td>/r8GBqFBjypLUP9VVqDqfZ7wYbSs.jpg</td>\n",
       "    </tr>\n",
       "    <tr>\n",
       "      <th>11</th>\n",
       "      <td>25</td>\n",
       "      <td>Hannah (voice)</td>\n",
       "      <td>52fe4284c3a36847f8024fbd</td>\n",
       "      <td>1</td>\n",
       "      <td>12903</td>\n",
       "      <td>Sarah Freeman</td>\n",
       "      <td>11</td>\n",
       "      <td>None</td>\n",
       "    </tr>\n",
       "    <tr>\n",
       "      <th>12</th>\n",
       "      <td>27</td>\n",
       "      <td>TV Announcer (voice)</td>\n",
       "      <td>52fe4284c3a36847f8024fc5</td>\n",
       "      <td>2</td>\n",
       "      <td>37221</td>\n",
       "      <td>Penn Jillette</td>\n",
       "      <td>12</td>\n",
       "      <td>/zmAaXUdx12NRsssgHbk1T31j2x9.jpg</td>\n",
       "    </tr>\n",
       "  </tbody>\n",
       "</table>\n",
       "</div>"
      ],
      "text/plain": [
       "    cast_id                character                 credit_id  gender  \\\n",
       "0        14            Woody (voice)  52fe4284c3a36847f8024f95       2   \n",
       "1        15   Buzz Lightyear (voice)  52fe4284c3a36847f8024f99       2   \n",
       "2        16  Mr. Potato Head (voice)  52fe4284c3a36847f8024f9d       2   \n",
       "3        17       Slinky Dog (voice)  52fe4284c3a36847f8024fa1       2   \n",
       "4        18              Rex (voice)  52fe4284c3a36847f8024fa5       2   \n",
       "5        19             Hamm (voice)  52fe4284c3a36847f8024fa9       2   \n",
       "6        20          Bo Peep (voice)  52fe4284c3a36847f8024fad       1   \n",
       "7        26             Andy (voice)  52fe4284c3a36847f8024fc1       0   \n",
       "8        22              Sid (voice)  52fe4284c3a36847f8024fb1       2   \n",
       "9        23       Mrs. Davis (voice)  52fe4284c3a36847f8024fb5       1   \n",
       "10       24         Sergeant (voice)  52fe4284c3a36847f8024fb9       2   \n",
       "11       25           Hannah (voice)  52fe4284c3a36847f8024fbd       1   \n",
       "12       27     TV Announcer (voice)  52fe4284c3a36847f8024fc5       2   \n",
       "\n",
       "         id               name  order                      profile_path  \n",
       "0        31          Tom Hanks      0  /pQFoyx7rp09CJTAb932F2g8Nlho.jpg  \n",
       "1     12898          Tim Allen      1  /uX2xVf6pMmPepxnvFWyBtjexzgY.jpg  \n",
       "2      7167        Don Rickles      2  /h5BcaDMPRVLHLDzbQavec4xfSdt.jpg  \n",
       "3     12899         Jim Varney      3  /eIo2jVVXYgjDtaHoF19Ll9vtW7h.jpg  \n",
       "4     12900      Wallace Shawn      4  /oGE6JqPP2xH4tNORKNqxbNPYi7u.jpg  \n",
       "5      7907  John Ratzenberger      5  /yGechiKWL6TJDfVE2KPSJYqdMsY.jpg  \n",
       "6      8873        Annie Potts      6  /eryXT84RL41jHSJcMy4kS3u9y6w.jpg  \n",
       "7   1116442        John Morris      7  /vYGyvK4LzeaUCoNSHtsuqJUY15M.jpg  \n",
       "8     12901    Erik von Detten      8  /twnF1ZaJ1FUNUuo6xLXwcxjayBE.jpg  \n",
       "9     12133     Laurie Metcalf      9  /unMMIT60eoBM2sN2nyR7EZ2BvvD.jpg  \n",
       "10     8655       R. Lee Ermey     10  /r8GBqFBjypLUP9VVqDqfZ7wYbSs.jpg  \n",
       "11    12903      Sarah Freeman     11                              None  \n",
       "12    37221      Penn Jillette     12  /zmAaXUdx12NRsssgHbk1T31j2x9.jpg  "
      ]
     },
     "execution_count": 77,
     "metadata": {},
     "output_type": "execute_result"
    }
   ],
   "source": [
    "pd.json_normalize(df.cast[0])"
   ]
  },
  {
   "cell_type": "code",
   "execution_count": 78,
   "id": "c39ffe49",
   "metadata": {},
   "outputs": [],
   "source": [
    "# Returns the features list' top 3 elements or entire list; whichever is greater\n",
    "\n",
    "def get_list(x):\n",
    "    if isinstance(x, list):\n",
    "        names = [i['name'] for i in x]\n",
    "        #Check if more than 3 elements exist. If yes, return only first three. If no, return entire list.\n",
    "        if len(names) >3:\n",
    "            names = names[:3]\n",
    "        return names\n",
    "    \n",
    "    #Return empty list in case of missing/malformed data\n",
    "    return []"
   ]
  },
  {
   "cell_type": "code",
   "execution_count": 79,
   "id": "0c2520dd",
   "metadata": {},
   "outputs": [],
   "source": [
    "# Define new director, cast, genres and keywords features that are in a suitable form.\n",
    "\n",
    "df['director'] = df['crew'].apply(get_director)\n",
    "\n",
    "features = ['cast', 'keywords', 'genres']\n",
    "for feature in features:\n",
    "    df[feature] = df[feature].apply(get_list)"
   ]
  },
  {
   "cell_type": "code",
   "execution_count": 80,
   "id": "568cdc66",
   "metadata": {},
   "outputs": [
    {
     "data": {
      "text/html": [
       "<div>\n",
       "<style scoped>\n",
       "    .dataframe tbody tr th:only-of-type {\n",
       "        vertical-align: middle;\n",
       "    }\n",
       "\n",
       "    .dataframe tbody tr th {\n",
       "        vertical-align: top;\n",
       "    }\n",
       "\n",
       "    .dataframe thead th {\n",
       "        text-align: right;\n",
       "    }\n",
       "</style>\n",
       "<table border=\"1\" class=\"dataframe\">\n",
       "  <thead>\n",
       "    <tr style=\"text-align: right;\">\n",
       "      <th></th>\n",
       "      <th>title</th>\n",
       "      <th>cast</th>\n",
       "      <th>director</th>\n",
       "      <th>keywords</th>\n",
       "      <th>genres</th>\n",
       "    </tr>\n",
       "  </thead>\n",
       "  <tbody>\n",
       "    <tr>\n",
       "      <th>0</th>\n",
       "      <td>Toy Story</td>\n",
       "      <td>[Tom Hanks, Tim Allen, Don Rickles]</td>\n",
       "      <td>John Lasseter</td>\n",
       "      <td>[jealousy, toy, boy]</td>\n",
       "      <td>[Animation, Comedy, Family]</td>\n",
       "    </tr>\n",
       "    <tr>\n",
       "      <th>1</th>\n",
       "      <td>GoldenEye</td>\n",
       "      <td>[Pierce Brosnan, Sean Bean, Izabella Scorupco]</td>\n",
       "      <td>Martin Campbell</td>\n",
       "      <td>[cuba, falsely accused, secret identity]</td>\n",
       "      <td>[Adventure, Action, Thriller]</td>\n",
       "    </tr>\n",
       "    <tr>\n",
       "      <th>2</th>\n",
       "      <td>The American President</td>\n",
       "      <td>[Michael Douglas, Annette Bening, Michael J. Fox]</td>\n",
       "      <td>Rob Reiner</td>\n",
       "      <td>[white house, usa president, new love]</td>\n",
       "      <td>[Comedy, Drama, Romance]</td>\n",
       "    </tr>\n",
       "    <tr>\n",
       "      <th>3</th>\n",
       "      <td>Nixon</td>\n",
       "      <td>[Anthony Hopkins, Joan Allen, Powers Boothe]</td>\n",
       "      <td>Oliver Stone</td>\n",
       "      <td>[usa president, presidential election, waterga...</td>\n",
       "      <td>[History, Drama]</td>\n",
       "    </tr>\n",
       "    <tr>\n",
       "      <th>4</th>\n",
       "      <td>Cutthroat Island</td>\n",
       "      <td>[Geena Davis, Matthew Modine, Frank Langella]</td>\n",
       "      <td>Renny Harlin</td>\n",
       "      <td>[exotic island, treasure, map]</td>\n",
       "      <td>[Action, Adventure]</td>\n",
       "    </tr>\n",
       "    <tr>\n",
       "      <th>...</th>\n",
       "      <td>...</td>\n",
       "      <td>...</td>\n",
       "      <td>...</td>\n",
       "      <td>...</td>\n",
       "      <td>...</td>\n",
       "    </tr>\n",
       "    <tr>\n",
       "      <th>4594</th>\n",
       "      <td>Christmas Mail</td>\n",
       "      <td>[Ashley Scott, A.J. Buckley, Rolanda Watts]</td>\n",
       "      <td>John Murlowski</td>\n",
       "      <td>[]</td>\n",
       "      <td>[Comedy, Family]</td>\n",
       "    </tr>\n",
       "    <tr>\n",
       "      <th>4595</th>\n",
       "      <td>Good Intentions</td>\n",
       "      <td>[Luke Perry, LeAnn Rimes, Jimmi Simpson]</td>\n",
       "      <td>Jim Issa</td>\n",
       "      <td>[independent film]</td>\n",
       "      <td>[Comedy]</td>\n",
       "    </tr>\n",
       "    <tr>\n",
       "      <th>4596</th>\n",
       "      <td>Growing Up Smith</td>\n",
       "      <td>[Roni Akurati, Brighton Sharbino, Jason Lee]</td>\n",
       "      <td>Frank Lotito</td>\n",
       "      <td>[]</td>\n",
       "      <td>[Comedy, Family, Drama]</td>\n",
       "    </tr>\n",
       "    <tr>\n",
       "      <th>4597</th>\n",
       "      <td>Aroused</td>\n",
       "      <td>[Lisa Ann, Kayden Kross, Belladonna]</td>\n",
       "      <td>Deborah Anderson</td>\n",
       "      <td>[pornography, interview, biography]</td>\n",
       "      <td>[Documentary]</td>\n",
       "    </tr>\n",
       "    <tr>\n",
       "      <th>4598</th>\n",
       "      <td>Treading Water</td>\n",
       "      <td>[Douglas Smith, Zoë Kravitz, Ariadna Gil]</td>\n",
       "      <td>Analeine Cal y Mayor</td>\n",
       "      <td>[fish, boy, parenting]</td>\n",
       "      <td>[Drama, Comedy]</td>\n",
       "    </tr>\n",
       "  </tbody>\n",
       "</table>\n",
       "<p>4599 rows × 5 columns</p>\n",
       "</div>"
      ],
      "text/plain": [
       "                       title  \\\n",
       "0                  Toy Story   \n",
       "1                  GoldenEye   \n",
       "2     The American President   \n",
       "3                      Nixon   \n",
       "4           Cutthroat Island   \n",
       "...                      ...   \n",
       "4594          Christmas Mail   \n",
       "4595         Good Intentions   \n",
       "4596        Growing Up Smith   \n",
       "4597                 Aroused   \n",
       "4598          Treading Water   \n",
       "\n",
       "                                                   cast              director  \\\n",
       "0                   [Tom Hanks, Tim Allen, Don Rickles]         John Lasseter   \n",
       "1        [Pierce Brosnan, Sean Bean, Izabella Scorupco]       Martin Campbell   \n",
       "2     [Michael Douglas, Annette Bening, Michael J. Fox]            Rob Reiner   \n",
       "3          [Anthony Hopkins, Joan Allen, Powers Boothe]          Oliver Stone   \n",
       "4         [Geena Davis, Matthew Modine, Frank Langella]          Renny Harlin   \n",
       "...                                                 ...                   ...   \n",
       "4594        [Ashley Scott, A.J. Buckley, Rolanda Watts]        John Murlowski   \n",
       "4595           [Luke Perry, LeAnn Rimes, Jimmi Simpson]              Jim Issa   \n",
       "4596       [Roni Akurati, Brighton Sharbino, Jason Lee]          Frank Lotito   \n",
       "4597               [Lisa Ann, Kayden Kross, Belladonna]      Deborah Anderson   \n",
       "4598          [Douglas Smith, Zoë Kravitz, Ariadna Gil]  Analeine Cal y Mayor   \n",
       "\n",
       "                                               keywords  \\\n",
       "0                                  [jealousy, toy, boy]   \n",
       "1              [cuba, falsely accused, secret identity]   \n",
       "2                [white house, usa president, new love]   \n",
       "3     [usa president, presidential election, waterga...   \n",
       "4                        [exotic island, treasure, map]   \n",
       "...                                                 ...   \n",
       "4594                                                 []   \n",
       "4595                                 [independent film]   \n",
       "4596                                                 []   \n",
       "4597                [pornography, interview, biography]   \n",
       "4598                             [fish, boy, parenting]   \n",
       "\n",
       "                             genres  \n",
       "0       [Animation, Comedy, Family]  \n",
       "1     [Adventure, Action, Thriller]  \n",
       "2          [Comedy, Drama, Romance]  \n",
       "3                  [History, Drama]  \n",
       "4               [Action, Adventure]  \n",
       "...                             ...  \n",
       "4594               [Comedy, Family]  \n",
       "4595                       [Comedy]  \n",
       "4596        [Comedy, Family, Drama]  \n",
       "4597                  [Documentary]  \n",
       "4598                [Drama, Comedy]  \n",
       "\n",
       "[4599 rows x 5 columns]"
      ]
     },
     "execution_count": 80,
     "metadata": {},
     "output_type": "execute_result"
    }
   ],
   "source": [
    "# Print the new features of the first 5 films\n",
    "\n",
    "df[['title', 'cast', 'director', 'keywords', 'genres']]"
   ]
  },
  {
   "cell_type": "markdown",
   "id": "686a729a",
   "metadata": {},
   "source": [
    "The next step would be to convert the names and keyword instances into lowercase and strip all the spaces between them. This is done so that our vectorizer doesn't count the Johnny of \"Johnny Depp\" and \"Johnny Galecki\" as the same."
   ]
  }
 ],
 "metadata": {
  "kernelspec": {
   "display_name": "Python 3 (ipykernel)",
   "language": "python",
   "name": "python3"
  },
  "language_info": {
   "codemirror_mode": {
    "name": "ipython",
    "version": 3
   },
   "file_extension": ".py",
   "mimetype": "text/x-python",
   "name": "python",
   "nbconvert_exporter": "python",
   "pygments_lexer": "ipython3",
   "version": "3.10.6"
  },
  "vscode": {
   "interpreter": {
    "hash": "5c10b88aa03f1af641217d74e81ba4fa8710519a32d7df49d151ce5b8b915102"
   }
  }
 },
 "nbformat": 4,
 "nbformat_minor": 5
}
